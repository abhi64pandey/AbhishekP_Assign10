{
 "cells": [
  {
   "cell_type": "code",
   "execution_count": null,
   "id": "877ceee3",
   "metadata": {},
   "outputs": [],
   "source": [
    "Q1: How do you distinguish between shutil.copy() and shutil.copytree()?\n",
    "\n",
    "Solution:\n",
    "    \n",
    "The shutil.copy() function will copy a single file, \n",
    "while shutil.copytree() will copy an entire folder, along with all its contents."
   ]
  },
  {
   "cell_type": "code",
   "execution_count": null,
   "id": "cc94048a",
   "metadata": {},
   "outputs": [],
   "source": [
    "Q2: What function is used to rename files??\n",
    "    \n",
    "Solution:\n",
    "    \n",
    "The shutil.move() function is used for renaming files as well as moving them."
   ]
  },
  {
   "cell_type": "code",
   "execution_count": null,
   "id": "eb7f8a96",
   "metadata": {},
   "outputs": [],
   "source": [
    "Q3: What is the difference between the delete functions in the send2trash and shutil modules?\n",
    "    \n",
    "Solution:\n",
    "    \n",
    "The send2trash functions will move a file or folder to the recycle bin,\n",
    "while shutil functions will permanently delete files and folders."
   ]
  },
  {
   "cell_type": "code",
   "execution_count": null,
   "id": "76d79cf0",
   "metadata": {},
   "outputs": [],
   "source": [
    "Q4: ZipFile objects have a close() method just like File objects’ close() method. \n",
    "    What ZipFile method is equivalent to File objects’ open() method?\n",
    "    \n",
    "Solution:\n",
    "    \n",
    "The zipfile.ZipFile() function is equivalent to the open() function;\n",
    "the first argument is the filename, and the second argument is the mode to open the ZIP file in (read, write, or append)."
   ]
  },
  {
   "cell_type": "code",
   "execution_count": null,
   "id": "8ed40c2f",
   "metadata": {},
   "outputs": [],
   "source": [
    "Q5: Create a programme that searches a folder tree for files with a certain file extension (such as .pdf or .jpg).\n",
    "    Copy these files from whatever location they are in to a new folder.\n",
    "    \n",
    "Solution:"
   ]
  },
  {
   "cell_type": "code",
   "execution_count": 11,
   "id": "943db8bf",
   "metadata": {},
   "outputs": [
    {
     "name": "stdout",
     "output_type": "stream",
     "text": [
      "Looking in C:\\Users\\Abhishek\\Abhishek for files with extensions of .pdf, .jpg\n",
      "Coping C:\\Users\\Abhishek\\Abhishek\\image-wooden-table-front-abstract-blurred-restaurant-lights-background_36051-392.jpg to C:\\Users\\Abhishek\\selectiveFolder\n"
     ]
    }
   ],
   "source": [
    "import os, shutil\n",
    "\n",
    "def selectiveCopy(folder, extensions, destFolder):\n",
    "    folder = os.path.abspath(folder)\n",
    "    destFolder = os.path.abspath(destFolder)\n",
    "    print('Looking in', folder, 'for files with extensions of', ', '.join(extensions))\n",
    "    for foldername, subfolders, filenames in os.walk(folder):\n",
    "        for filename in filenames:\n",
    "            name, extension = os.path.splitext(filename)\n",
    "            if extension in extensions:\n",
    "                fileAbsPath = foldername + os.path.sep + filename\n",
    "                print('Coping', fileAbsPath, 'to', destFolder)\n",
    "                shutil.copy(fileAbsPath, destFolder)\n",
    "\n",
    "extensions = ['.pdf', '.jpg']\n",
    "folder = 'Abhishek'\n",
    "destFolder = 'selectiveFolder'\n",
    "selectiveCopy(folder, extensions, destFolder)"
   ]
  }
 ],
 "metadata": {
  "kernelspec": {
   "display_name": "Python 3 (ipykernel)",
   "language": "python",
   "name": "python3"
  },
  "language_info": {
   "codemirror_mode": {
    "name": "ipython",
    "version": 3
   },
   "file_extension": ".py",
   "mimetype": "text/x-python",
   "name": "python",
   "nbconvert_exporter": "python",
   "pygments_lexer": "ipython3",
   "version": "3.9.7"
  }
 },
 "nbformat": 4,
 "nbformat_minor": 5
}
